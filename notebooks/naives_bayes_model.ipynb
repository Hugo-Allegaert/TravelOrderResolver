{
 "cells": [
  {
   "cell_type": "code",
   "execution_count": 1,
   "id": "6ba3d011-4231-4064-a9aa-4b911e21dee6",
   "metadata": {},
   "outputs": [],
   "source": [
    "import pandas as pd\n",
    "from sklearn.model_selection import train_test_split\n",
    "import joblib\n",
    "from joblib import dump, load\n",
    "import pickle\n",
    "from sklearn.feature_extraction.text import CountVectorizer"
   ]
  },
  {
   "cell_type": "code",
   "execution_count": 2,
   "id": "0500d434-5166-4060-8bc8-f42f9560be9c",
   "metadata": {},
   "outputs": [],
   "source": [
    "data = pd.read_csv('augmented_data.csv')"
   ]
  },
  {
   "cell_type": "code",
   "execution_count": 3,
   "id": "a8804037-250b-4533-b266-c4a478030f23",
   "metadata": {},
   "outputs": [],
   "source": [
    "data.columns =['sentence', 'valid']"
   ]
  },
  {
   "cell_type": "code",
   "execution_count": 4,
   "id": "f023689b-ca41-4456-b59b-2f335068db6e",
   "metadata": {},
   "outputs": [
    {
     "data": {
      "text/html": [
       "<div>\n",
       "<style scoped>\n",
       "    .dataframe tbody tr th:only-of-type {\n",
       "        vertical-align: middle;\n",
       "    }\n",
       "\n",
       "    .dataframe tbody tr th {\n",
       "        vertical-align: top;\n",
       "    }\n",
       "\n",
       "    .dataframe thead th {\n",
       "        text-align: right;\n",
       "    }\n",
       "</style>\n",
       "<table border=\"1\" class=\"dataframe\">\n",
       "  <thead>\n",
       "    <tr style=\"text-align: right;\">\n",
       "      <th></th>\n",
       "      <th>sentence</th>\n",
       "      <th>valid</th>\n",
       "    </tr>\n",
       "  </thead>\n",
       "  <tbody>\n",
       "    <tr>\n",
       "      <th>0</th>\n",
       "      <td>je voudrais un voyage de bons-en-chablais à ba...</td>\n",
       "      <td>1</td>\n",
       "    </tr>\n",
       "    <tr>\n",
       "      <th>1</th>\n",
       "      <td>Je voudrais un trajet de sains du thiaville ve...</td>\n",
       "      <td>1</td>\n",
       "    </tr>\n",
       "    <tr>\n",
       "      <th>2</th>\n",
       "      <td>Je voudrais un voyage de longpré-corps-saints ...</td>\n",
       "      <td>1</td>\n",
       "    </tr>\n",
       "    <tr>\n",
       "      <th>3</th>\n",
       "      <td>je voudrais un trajet de bons-en-chablais vers...</td>\n",
       "      <td>1</td>\n",
       "    </tr>\n",
       "    <tr>\n",
       "      <th>4</th>\n",
       "      <td>je voudrais un voyage de donjeux à montaignac-...</td>\n",
       "      <td>1</td>\n",
       "    </tr>\n",
       "  </tbody>\n",
       "</table>\n",
       "</div>"
      ],
      "text/plain": [
       "                                            sentence  valid\n",
       "0  je voudrais un voyage de bons-en-chablais à ba...      1\n",
       "1  Je voudrais un trajet de sains du thiaville ve...      1\n",
       "2  Je voudrais un voyage de longpré-corps-saints ...      1\n",
       "3  je voudrais un trajet de bons-en-chablais vers...      1\n",
       "4  je voudrais un voyage de donjeux à montaignac-...      1"
      ]
     },
     "execution_count": 4,
     "metadata": {},
     "output_type": "execute_result"
    }
   ],
   "source": [
    "data.head()"
   ]
  },
  {
   "cell_type": "code",
   "execution_count": 5,
   "id": "b3d35908-8abc-4373-b032-a33c9493a6ae",
   "metadata": {},
   "outputs": [],
   "source": [
    "def preprocess_data(data):\n",
    "    \n",
    "    # Convert text to lowercase\n",
    "    data['sentence'] = data['sentence'].str.strip().str.lower()\n",
    "    \n",
    "    data = data.sample(frac = 1)\n",
    "    return data"
   ]
  },
  {
   "cell_type": "code",
   "execution_count": 6,
   "id": "472da8df-8fe5-4526-b514-4e745f26ae1b",
   "metadata": {},
   "outputs": [
    {
     "data": {
      "text/html": [
       "<div>\n",
       "<style scoped>\n",
       "    .dataframe tbody tr th:only-of-type {\n",
       "        vertical-align: middle;\n",
       "    }\n",
       "\n",
       "    .dataframe tbody tr th {\n",
       "        vertical-align: top;\n",
       "    }\n",
       "\n",
       "    .dataframe thead th {\n",
       "        text-align: right;\n",
       "    }\n",
       "</style>\n",
       "<table border=\"1\" class=\"dataframe\">\n",
       "  <thead>\n",
       "    <tr style=\"text-align: right;\">\n",
       "      <th></th>\n",
       "      <th>sentence</th>\n",
       "      <th>valid</th>\n",
       "    </tr>\n",
       "  </thead>\n",
       "  <tbody>\n",
       "    <tr>\n",
       "      <th>1534</th>\n",
       "      <td>j'adore faire du bateau à vapeur</td>\n",
       "      <td>0</td>\n",
       "    </tr>\n",
       "    <tr>\n",
       "      <th>475</th>\n",
       "      <td>il faudrait que j'aille à lamothe-landerron à ...</td>\n",
       "      <td>1</td>\n",
       "    </tr>\n",
       "    <tr>\n",
       "      <th>442</th>\n",
       "      <td>il me faudrait aller de chambéry-chal.-les-eau...</td>\n",
       "      <td>1</td>\n",
       "    </tr>\n",
       "    <tr>\n",
       "      <th>361</th>\n",
       "      <td>je voudrais aller de longpré-corps-saints à mo...</td>\n",
       "      <td>1</td>\n",
       "    </tr>\n",
       "    <tr>\n",
       "      <th>97</th>\n",
       "      <td>je souhaiterais aller de brion-laizy à cap-d'ail</td>\n",
       "      <td>1</td>\n",
       "    </tr>\n",
       "  </tbody>\n",
       "</table>\n",
       "</div>"
      ],
      "text/plain": [
       "                                               sentence  valid\n",
       "1534                   j'adore faire du bateau à vapeur      0\n",
       "475   il faudrait que j'aille à lamothe-landerron à ...      1\n",
       "442   il me faudrait aller de chambéry-chal.-les-eau...      1\n",
       "361   je voudrais aller de longpré-corps-saints à mo...      1\n",
       "97     je souhaiterais aller de brion-laizy à cap-d'ail      1"
      ]
     },
     "execution_count": 6,
     "metadata": {},
     "output_type": "execute_result"
    }
   ],
   "source": [
    "data = preprocess_data(data)\n",
    "data.head()"
   ]
  },
  {
   "cell_type": "code",
   "execution_count": 7,
   "id": "9cdbfe2e-c9fd-4a10-a8dd-72dda526774c",
   "metadata": {},
   "outputs": [],
   "source": [
    "x = data['sentence']\n",
    "y = data['valid']\n",
    "x, x_test, y, y_test = train_test_split(x,y, stratify=y, test_size=0.2, random_state=42)"
   ]
  },
  {
   "cell_type": "code",
   "execution_count": 8,
   "id": "baf0fcad-5a4a-472b-99f7-b8b23c2ad0b8",
   "metadata": {},
   "outputs": [],
   "source": [
    "vec = CountVectorizer(stop_words='english')\n",
    "x = vec.fit_transform(x).toarray()\n",
    "x_test = vec.transform(x_test).toarray()"
   ]
  },
  {
   "cell_type": "code",
   "execution_count": 9,
   "id": "5846ef86-3d01-41e4-84cc-42e2dac04147",
   "metadata": {},
   "outputs": [
    {
     "data": {
      "text/plain": [
       "MultinomialNB()"
      ]
     },
     "execution_count": 9,
     "metadata": {},
     "output_type": "execute_result"
    }
   ],
   "source": [
    "from sklearn.naive_bayes import MultinomialNB\n",
    "\n",
    "model = MultinomialNB()\n",
    "model.fit(x, y)"
   ]
  },
  {
   "cell_type": "code",
   "execution_count": 10,
   "id": "a7dd7ae6-794e-42b1-8c49-3e9bf02e4be3",
   "metadata": {},
   "outputs": [
    {
     "data": {
      "text/plain": [
       "0.9915492957746479"
      ]
     },
     "execution_count": 10,
     "metadata": {},
     "output_type": "execute_result"
    }
   ],
   "source": [
    "model.score(x_test, y_test)"
   ]
  },
  {
   "cell_type": "code",
   "execution_count": 11,
   "id": "8fbef552-f629-4c12-8479-db0775d9224c",
   "metadata": {},
   "outputs": [
    {
     "data": {
      "text/plain": [
       "array([1])"
      ]
     },
     "execution_count": 11,
     "metadata": {},
     "output_type": "execute_result"
    }
   ],
   "source": [
    "model.predict(vec.transform([\"Je veux aller à Paris.\"]))"
   ]
  },
  {
   "cell_type": "code",
   "execution_count": 12,
   "id": "98ab2387-1395-403c-9540-b431874af54f",
   "metadata": {},
   "outputs": [
    {
     "data": {
      "text/plain": [
       "['vectorizer.joblib']"
      ]
     },
     "execution_count": 12,
     "metadata": {},
     "output_type": "execute_result"
    }
   ],
   "source": [
    "dump(model,'naive_bayes_model.joblib')\n",
    "dump(vec,'vectorizer.joblib')"
   ]
  },
  {
   "cell_type": "code",
   "execution_count": 13,
   "id": "cde5f5d0-1067-4431-8106-51bcc40a3ba3",
   "metadata": {},
   "outputs": [],
   "source": [
    "modelloaded = load('naive_bayes_model.joblib')"
   ]
  },
  {
   "cell_type": "code",
   "execution_count": 14,
   "id": "63db6170-a875-4ca3-82da-246c9c41f563",
   "metadata": {},
   "outputs": [
    {
     "data": {
      "text/plain": [
       "array([1])"
      ]
     },
     "execution_count": 14,
     "metadata": {},
     "output_type": "execute_result"
    }
   ],
   "source": [
    "modelloaded.predict(vec.transform([\"Je veux aller à Paris.\"]))"
   ]
  }
 ],
 "metadata": {
  "kernelspec": {
   "display_name": "Python 3 (ipykernel)",
   "language": "python",
   "name": "python3"
  },
  "language_info": {
   "codemirror_mode": {
    "name": "ipython",
    "version": 3
   },
   "file_extension": ".py",
   "mimetype": "text/x-python",
   "name": "python",
   "nbconvert_exporter": "python",
   "pygments_lexer": "ipython3",
   "version": "3.8.5"
  }
 },
 "nbformat": 4,
 "nbformat_minor": 5
}